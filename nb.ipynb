{
 "cells": [
  {
   "cell_type": "code",
   "execution_count": 1,
   "metadata": {},
   "outputs": [],
   "source": [
    "%reload_ext autoreload\n",
    "%autoreload 2\n",
    "%matplotlib inline\n",
    "\n",
    "import numpy as np\n",
    "import pandas as pd\n",
    "import matplotlib.pyplot as plt\n",
    "import seaborn as sns\n",
    "\n",
    "from preprocessing import *"
   ]
  },
  {
   "cell_type": "code",
   "execution_count": 2,
   "metadata": {},
   "outputs": [
    {
     "ename": "IndexError",
     "evalue": "index 0 is out of bounds for axis 0 with size 0",
     "output_type": "error",
     "traceback": [
      "\u001b[0;31m---------------------------------------------------------------------------\u001b[0m",
      "\u001b[0;31mIndexError\u001b[0m                                Traceback (most recent call last)",
      "\u001b[1;32m/Users/tudoroancea/Desktop/epfl/ma3/cs-401/ada-2023-project-abracadabra2023/nb.ipynb Cell 2\u001b[0m line \u001b[0;36m7\n\u001b[1;32m      <a href='vscode-notebook-cell:/Users/tudoroancea/Desktop/epfl/ma3/cs-401/ada-2023-project-abracadabra2023/nb.ipynb#W2sZmlsZQ%3D%3D?line=0'>1</a>\u001b[0m (\n\u001b[1;32m      <a href='vscode-notebook-cell:/Users/tudoroancea/Desktop/epfl/ma3/cs-401/ada-2023-project-abracadabra2023/nb.ipynb#W2sZmlsZQ%3D%3D?line=1'>2</a>\u001b[0m     articles,\n\u001b[1;32m      <a href='vscode-notebook-cell:/Users/tudoroancea/Desktop/epfl/ma3/cs-401/ada-2023-project-abracadabra2023/nb.ipynb#W2sZmlsZQ%3D%3D?line=2'>3</a>\u001b[0m     categories,\n\u001b[1;32m      <a href='vscode-notebook-cell:/Users/tudoroancea/Desktop/epfl/ma3/cs-401/ada-2023-project-abracadabra2023/nb.ipynb#W2sZmlsZQ%3D%3D?line=3'>4</a>\u001b[0m     links,\n\u001b[1;32m      <a href='vscode-notebook-cell:/Users/tudoroancea/Desktop/epfl/ma3/cs-401/ada-2023-project-abracadabra2023/nb.ipynb#W2sZmlsZQ%3D%3D?line=4'>5</a>\u001b[0m     paths_finished,\n\u001b[1;32m      <a href='vscode-notebook-cell:/Users/tudoroancea/Desktop/epfl/ma3/cs-401/ada-2023-project-abracadabra2023/nb.ipynb#W2sZmlsZQ%3D%3D?line=5'>6</a>\u001b[0m     paths_unfinished,\n\u001b[0;32m----> <a href='vscode-notebook-cell:/Users/tudoroancea/Desktop/epfl/ma3/cs-401/ada-2023-project-abracadabra2023/nb.ipynb#W2sZmlsZQ%3D%3D?line=6'>7</a>\u001b[0m ) \u001b[39m=\u001b[39m import_and_clean_data()\n",
      "File \u001b[0;32m~/Desktop/epfl/ma3/cs-401/ada-2023-project-abracadabra2023/preprocessing.py:116\u001b[0m, in \u001b[0;36mimport_and_clean_data\u001b[0;34m()\u001b[0m\n\u001b[1;32m    113\u001b[0m paths_finished \u001b[39m=\u001b[39m paths_finished[paths_finished[\u001b[39m\"\u001b[39m\u001b[39mpath_length\u001b[39m\u001b[39m\"\u001b[39m] \u001b[39m<\u001b[39m\u001b[39m=\u001b[39m bound_path_lengths]\n\u001b[1;32m    115\u001b[0m \u001b[39m# adding theoretical shortest path column\u001b[39;00m\n\u001b[0;32m--> 116\u001b[0m paths_finished[\u001b[39m\"\u001b[39m\u001b[39mshortest_path\u001b[39m\u001b[39m\"\u001b[39m] \u001b[39m=\u001b[39m paths_finished[\u001b[39m\"\u001b[39;49m\u001b[39mpath\u001b[39;49m\u001b[39m\"\u001b[39;49m]\u001b[39m.\u001b[39;49mapply(\n\u001b[1;32m    117\u001b[0m     \u001b[39mlambda\u001b[39;49;00m path: get_shortest_length(\u001b[39mlist\u001b[39;49m(articles), shortest_paths_matrix, path)\n\u001b[1;32m    118\u001b[0m )\u001b[39m.\u001b[39mastype(\u001b[39mint\u001b[39m)\n\u001b[1;32m    120\u001b[0m \u001b[39m# compute difference between shortest paths and taken path\u001b[39;00m\n\u001b[1;32m    121\u001b[0m paths_finished[\u001b[39m\"\u001b[39m\u001b[39mdiff_length\u001b[39m\u001b[39m\"\u001b[39m] \u001b[39m=\u001b[39m paths_finished[\u001b[39m\"\u001b[39m\u001b[39mpath_length\u001b[39m\u001b[39m\"\u001b[39m] \u001b[39m-\u001b[39m paths_finished[\u001b[39m\"\u001b[39m\u001b[39mshortest_path\u001b[39m\u001b[39m\"\u001b[39m]\n",
      "File \u001b[0;32m~/miniforge3/envs/ada/lib/python3.9/site-packages/pandas/core/series.py:4753\u001b[0m, in \u001b[0;36mSeries.apply\u001b[0;34m(self, func, convert_dtype, args, by_row, **kwargs)\u001b[0m\n\u001b[1;32m   4625\u001b[0m \u001b[39mdef\u001b[39;00m \u001b[39mapply\u001b[39m(\n\u001b[1;32m   4626\u001b[0m     \u001b[39mself\u001b[39m,\n\u001b[1;32m   4627\u001b[0m     func: AggFuncType,\n\u001b[0;32m   (...)\u001b[0m\n\u001b[1;32m   4632\u001b[0m     \u001b[39m*\u001b[39m\u001b[39m*\u001b[39mkwargs,\n\u001b[1;32m   4633\u001b[0m ) \u001b[39m-\u001b[39m\u001b[39m>\u001b[39m DataFrame \u001b[39m|\u001b[39m Series:\n\u001b[1;32m   4634\u001b[0m \u001b[39m    \u001b[39m\u001b[39m\"\"\"\u001b[39;00m\n\u001b[1;32m   4635\u001b[0m \u001b[39m    Invoke function on values of Series.\u001b[39;00m\n\u001b[1;32m   4636\u001b[0m \n\u001b[0;32m   (...)\u001b[0m\n\u001b[1;32m   4751\u001b[0m \u001b[39m    dtype: float64\u001b[39;00m\n\u001b[1;32m   4752\u001b[0m \u001b[39m    \"\"\"\u001b[39;00m\n\u001b[0;32m-> 4753\u001b[0m     \u001b[39mreturn\u001b[39;00m SeriesApply(\n\u001b[1;32m   4754\u001b[0m         \u001b[39mself\u001b[39;49m,\n\u001b[1;32m   4755\u001b[0m         func,\n\u001b[1;32m   4756\u001b[0m         convert_dtype\u001b[39m=\u001b[39;49mconvert_dtype,\n\u001b[1;32m   4757\u001b[0m         by_row\u001b[39m=\u001b[39;49mby_row,\n\u001b[1;32m   4758\u001b[0m         args\u001b[39m=\u001b[39;49margs,\n\u001b[1;32m   4759\u001b[0m         kwargs\u001b[39m=\u001b[39;49mkwargs,\n\u001b[1;32m   4760\u001b[0m     )\u001b[39m.\u001b[39;49mapply()\n",
      "File \u001b[0;32m~/miniforge3/envs/ada/lib/python3.9/site-packages/pandas/core/apply.py:1207\u001b[0m, in \u001b[0;36mSeriesApply.apply\u001b[0;34m(self)\u001b[0m\n\u001b[1;32m   1204\u001b[0m     \u001b[39mreturn\u001b[39;00m \u001b[39mself\u001b[39m\u001b[39m.\u001b[39mapply_compat()\n\u001b[1;32m   1206\u001b[0m \u001b[39m# self.func is Callable\u001b[39;00m\n\u001b[0;32m-> 1207\u001b[0m \u001b[39mreturn\u001b[39;00m \u001b[39mself\u001b[39;49m\u001b[39m.\u001b[39;49mapply_standard()\n",
      "File \u001b[0;32m~/miniforge3/envs/ada/lib/python3.9/site-packages/pandas/core/apply.py:1287\u001b[0m, in \u001b[0;36mSeriesApply.apply_standard\u001b[0;34m(self)\u001b[0m\n\u001b[1;32m   1281\u001b[0m \u001b[39m# row-wise access\u001b[39;00m\n\u001b[1;32m   1282\u001b[0m \u001b[39m# apply doesn't have a `na_action` keyword and for backward compat reasons\u001b[39;00m\n\u001b[1;32m   1283\u001b[0m \u001b[39m# we need to give `na_action=\"ignore\"` for categorical data.\u001b[39;00m\n\u001b[1;32m   1284\u001b[0m \u001b[39m# TODO: remove the `na_action=\"ignore\"` when that default has been changed in\u001b[39;00m\n\u001b[1;32m   1285\u001b[0m \u001b[39m#  Categorical (GH51645).\u001b[39;00m\n\u001b[1;32m   1286\u001b[0m action \u001b[39m=\u001b[39m \u001b[39m\"\u001b[39m\u001b[39mignore\u001b[39m\u001b[39m\"\u001b[39m \u001b[39mif\u001b[39;00m \u001b[39misinstance\u001b[39m(obj\u001b[39m.\u001b[39mdtype, CategoricalDtype) \u001b[39melse\u001b[39;00m \u001b[39mNone\u001b[39;00m\n\u001b[0;32m-> 1287\u001b[0m mapped \u001b[39m=\u001b[39m obj\u001b[39m.\u001b[39;49m_map_values(\n\u001b[1;32m   1288\u001b[0m     mapper\u001b[39m=\u001b[39;49mcurried, na_action\u001b[39m=\u001b[39;49maction, convert\u001b[39m=\u001b[39;49m\u001b[39mself\u001b[39;49m\u001b[39m.\u001b[39;49mconvert_dtype\n\u001b[1;32m   1289\u001b[0m )\n\u001b[1;32m   1291\u001b[0m \u001b[39mif\u001b[39;00m \u001b[39mlen\u001b[39m(mapped) \u001b[39mand\u001b[39;00m \u001b[39misinstance\u001b[39m(mapped[\u001b[39m0\u001b[39m], ABCSeries):\n\u001b[1;32m   1292\u001b[0m     \u001b[39m# GH#43986 Need to do list(mapped) in order to get treated as nested\u001b[39;00m\n\u001b[1;32m   1293\u001b[0m     \u001b[39m#  See also GH#25959 regarding EA support\u001b[39;00m\n\u001b[1;32m   1294\u001b[0m     \u001b[39mreturn\u001b[39;00m obj\u001b[39m.\u001b[39m_constructor_expanddim(\u001b[39mlist\u001b[39m(mapped), index\u001b[39m=\u001b[39mobj\u001b[39m.\u001b[39mindex)\n",
      "File \u001b[0;32m~/miniforge3/envs/ada/lib/python3.9/site-packages/pandas/core/base.py:921\u001b[0m, in \u001b[0;36mIndexOpsMixin._map_values\u001b[0;34m(self, mapper, na_action, convert)\u001b[0m\n\u001b[1;32m    918\u001b[0m \u001b[39mif\u001b[39;00m \u001b[39misinstance\u001b[39m(arr, ExtensionArray):\n\u001b[1;32m    919\u001b[0m     \u001b[39mreturn\u001b[39;00m arr\u001b[39m.\u001b[39mmap(mapper, na_action\u001b[39m=\u001b[39mna_action)\n\u001b[0;32m--> 921\u001b[0m \u001b[39mreturn\u001b[39;00m algorithms\u001b[39m.\u001b[39;49mmap_array(arr, mapper, na_action\u001b[39m=\u001b[39;49mna_action, convert\u001b[39m=\u001b[39;49mconvert)\n",
      "File \u001b[0;32m~/miniforge3/envs/ada/lib/python3.9/site-packages/pandas/core/algorithms.py:1814\u001b[0m, in \u001b[0;36mmap_array\u001b[0;34m(arr, mapper, na_action, convert)\u001b[0m\n\u001b[1;32m   1812\u001b[0m values \u001b[39m=\u001b[39m arr\u001b[39m.\u001b[39mastype(\u001b[39mobject\u001b[39m, copy\u001b[39m=\u001b[39m\u001b[39mFalse\u001b[39;00m)\n\u001b[1;32m   1813\u001b[0m \u001b[39mif\u001b[39;00m na_action \u001b[39mis\u001b[39;00m \u001b[39mNone\u001b[39;00m:\n\u001b[0;32m-> 1814\u001b[0m     \u001b[39mreturn\u001b[39;00m lib\u001b[39m.\u001b[39;49mmap_infer(values, mapper, convert\u001b[39m=\u001b[39;49mconvert)\n\u001b[1;32m   1815\u001b[0m \u001b[39melse\u001b[39;00m:\n\u001b[1;32m   1816\u001b[0m     \u001b[39mreturn\u001b[39;00m lib\u001b[39m.\u001b[39mmap_infer_mask(\n\u001b[1;32m   1817\u001b[0m         values, mapper, mask\u001b[39m=\u001b[39misna(values)\u001b[39m.\u001b[39mview(np\u001b[39m.\u001b[39muint8), convert\u001b[39m=\u001b[39mconvert\n\u001b[1;32m   1818\u001b[0m     )\n",
      "File \u001b[0;32mlib.pyx:2917\u001b[0m, in \u001b[0;36mpandas._libs.lib.map_infer\u001b[0;34m()\u001b[0m\n",
      "File \u001b[0;32m~/Desktop/epfl/ma3/cs-401/ada-2023-project-abracadabra2023/preprocessing.py:117\u001b[0m, in \u001b[0;36mimport_and_clean_data.<locals>.<lambda>\u001b[0;34m(path)\u001b[0m\n\u001b[1;32m    113\u001b[0m paths_finished \u001b[39m=\u001b[39m paths_finished[paths_finished[\u001b[39m\"\u001b[39m\u001b[39mpath_length\u001b[39m\u001b[39m\"\u001b[39m] \u001b[39m<\u001b[39m\u001b[39m=\u001b[39m bound_path_lengths]\n\u001b[1;32m    115\u001b[0m \u001b[39m# adding theoretical shortest path column\u001b[39;00m\n\u001b[1;32m    116\u001b[0m paths_finished[\u001b[39m\"\u001b[39m\u001b[39mshortest_path\u001b[39m\u001b[39m\"\u001b[39m] \u001b[39m=\u001b[39m paths_finished[\u001b[39m\"\u001b[39m\u001b[39mpath\u001b[39m\u001b[39m\"\u001b[39m]\u001b[39m.\u001b[39mapply(\n\u001b[0;32m--> 117\u001b[0m     \u001b[39mlambda\u001b[39;00m path: get_shortest_length(\u001b[39mlist\u001b[39;49m(articles), shortest_paths_matrix, path)\n\u001b[1;32m    118\u001b[0m )\u001b[39m.\u001b[39mastype(\u001b[39mint\u001b[39m)\n\u001b[1;32m    120\u001b[0m \u001b[39m# compute difference between shortest paths and taken path\u001b[39;00m\n\u001b[1;32m    121\u001b[0m paths_finished[\u001b[39m\"\u001b[39m\u001b[39mdiff_length\u001b[39m\u001b[39m\"\u001b[39m] \u001b[39m=\u001b[39m paths_finished[\u001b[39m\"\u001b[39m\u001b[39mpath_length\u001b[39m\u001b[39m\"\u001b[39m] \u001b[39m-\u001b[39m paths_finished[\u001b[39m\"\u001b[39m\u001b[39mshortest_path\u001b[39m\u001b[39m\"\u001b[39m]\n",
      "File \u001b[0;32m~/Desktop/epfl/ma3/cs-401/ada-2023-project-abracadabra2023/preprocessing.py:146\u001b[0m, in \u001b[0;36mget_shortest_length\u001b[0;34m(articles_names, path_matrix, path)\u001b[0m\n\u001b[1;32m    143\u001b[0m path_unquote \u001b[39m=\u001b[39m \u001b[39mlist\u001b[39m(\u001b[39mmap\u001b[39m(unquote, path))\n\u001b[1;32m    145\u001b[0m \u001b[39m# get index\u001b[39;00m\n\u001b[0;32m--> 146\u001b[0m index_starting_article \u001b[39m=\u001b[39m np\u001b[39m.\u001b[39;49mwhere(path_unquote[\u001b[39m0\u001b[39;49m] \u001b[39m==\u001b[39;49m articles_names)[\u001b[39m0\u001b[39;49m][\u001b[39m0\u001b[39;49m]\n\u001b[1;32m    147\u001b[0m index_target_article \u001b[39m=\u001b[39m np\u001b[39m.\u001b[39mwhere(path_unquote[\u001b[39m-\u001b[39m\u001b[39m1\u001b[39m] \u001b[39m==\u001b[39m articles_names)[\u001b[39m0\u001b[39m][\u001b[39m0\u001b[39m]\n\u001b[1;32m    149\u001b[0m \u001b[39m# store length\u001b[39;00m\n",
      "\u001b[0;31mIndexError\u001b[0m: index 0 is out of bounds for axis 0 with size 0"
     ]
    }
   ],
   "source": [
    "(\n",
    "    articles,\n",
    "    categories,\n",
    "    links,\n",
    "    paths_finished,\n",
    "    paths_unfinished,\n",
    ") = import_and_clean_data()"
   ]
  },
  {
   "cell_type": "code",
   "execution_count": null,
   "metadata": {},
   "outputs": [],
   "source": []
  }
 ],
 "metadata": {
  "kernelspec": {
   "display_name": "ada",
   "language": "python",
   "name": "python3"
  },
  "language_info": {
   "codemirror_mode": {
    "name": "ipython",
    "version": 3
   },
   "file_extension": ".py",
   "mimetype": "text/x-python",
   "name": "python",
   "nbconvert_exporter": "python",
   "pygments_lexer": "ipython3",
   "version": "3.9.18"
  }
 },
 "nbformat": 4,
 "nbformat_minor": 2
}
